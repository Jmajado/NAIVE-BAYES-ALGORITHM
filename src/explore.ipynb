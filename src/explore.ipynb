{
    "cells": [
        {
            "cell_type": "markdown",
            "metadata": {},
            "source": [
                "# Explore here"
            ]
        },
        {
            "cell_type": "code",
            "execution_count": null,
            "metadata": {},
            "outputs": [
                {
                    "data": {
                        "text/html": [
                            "<div>\n",
                            "<style scoped>\n",
                            "    .dataframe tbody tr th:only-of-type {\n",
                            "        vertical-align: middle;\n",
                            "    }\n",
                            "\n",
                            "    .dataframe tbody tr th {\n",
                            "        vertical-align: top;\n",
                            "    }\n",
                            "\n",
                            "    .dataframe thead th {\n",
                            "        text-align: right;\n",
                            "    }\n",
                            "</style>\n",
                            "<table border=\"1\" class=\"dataframe\">\n",
                            "  <thead>\n",
                            "    <tr style=\"text-align: right;\">\n",
                            "      <th></th>\n",
                            "      <th>package_name</th>\n",
                            "      <th>review</th>\n",
                            "      <th>polarity</th>\n",
                            "    </tr>\n",
                            "  </thead>\n",
                            "  <tbody>\n",
                            "    <tr>\n",
                            "      <th>0</th>\n",
                            "      <td>com.facebook.katana</td>\n",
                            "      <td>privacy at least put some option appear offli...</td>\n",
                            "      <td>0</td>\n",
                            "    </tr>\n",
                            "    <tr>\n",
                            "      <th>1</th>\n",
                            "      <td>com.facebook.katana</td>\n",
                            "      <td>messenger issues ever since the last update, ...</td>\n",
                            "      <td>0</td>\n",
                            "    </tr>\n",
                            "    <tr>\n",
                            "      <th>2</th>\n",
                            "      <td>com.facebook.katana</td>\n",
                            "      <td>profile any time my wife or anybody has more ...</td>\n",
                            "      <td>0</td>\n",
                            "    </tr>\n",
                            "    <tr>\n",
                            "      <th>3</th>\n",
                            "      <td>com.facebook.katana</td>\n",
                            "      <td>the new features suck for those of us who don...</td>\n",
                            "      <td>0</td>\n",
                            "    </tr>\n",
                            "    <tr>\n",
                            "      <th>4</th>\n",
                            "      <td>com.facebook.katana</td>\n",
                            "      <td>forced reload on uploading pic on replying co...</td>\n",
                            "      <td>0</td>\n",
                            "    </tr>\n",
                            "  </tbody>\n",
                            "</table>\n",
                            "</div>"
                        ],
                        "text/plain": [
                            "          package_name                                             review  \\\n",
                            "0  com.facebook.katana   privacy at least put some option appear offli...   \n",
                            "1  com.facebook.katana   messenger issues ever since the last update, ...   \n",
                            "2  com.facebook.katana   profile any time my wife or anybody has more ...   \n",
                            "3  com.facebook.katana   the new features suck for those of us who don...   \n",
                            "4  com.facebook.katana   forced reload on uploading pic on replying co...   \n",
                            "\n",
                            "   polarity  \n",
                            "0         0  \n",
                            "1         0  \n",
                            "2         0  \n",
                            "3         0  \n",
                            "4         0  "
                        ]
                    },
                    "execution_count": 40,
                    "metadata": {},
                    "output_type": "execute_result"
                }
            ],
            "source": [
                "# Your code here\n",
                "# Your code here\n",
                "import pandas as pd\n",
                "import matplotlib.pyplot as plt\n",
                "import seaborn as sns\n",
                "import json\n",
                "import math\n",
                "from sklearn.model_selection import train_test_split\n",
                "# Cargar los datos desde la URL\n",
                "url = \"https://raw.githubusercontent.com/4GeeksAcademy/naive-bayes-project-tutorial/main/playstore_reviews.csv\"\n",
                "datos = pd.read_csv(url)\n",
                "\n",
                "# Mostrar las primeras filas del DataFrame\n",
                "datos.head()"
            ]
        },
        {
            "cell_type": "code",
            "execution_count": 41,
            "metadata": {},
            "outputs": [
                {
                    "data": {
                        "text/plain": [
                            "(891, 3)"
                        ]
                    },
                    "execution_count": 41,
                    "metadata": {},
                    "output_type": "execute_result"
                }
            ],
            "source": [
                "datos.shape"
            ]
        },
        {
            "cell_type": "code",
            "execution_count": 42,
            "metadata": {},
            "outputs": [
                {
                    "data": {
                        "text/plain": [
                            "<bound method DataFrame.info of              package_name                                             review  \\\n",
                            "0     com.facebook.katana   privacy at least put some option appear offli...   \n",
                            "1     com.facebook.katana   messenger issues ever since the last update, ...   \n",
                            "2     com.facebook.katana   profile any time my wife or anybody has more ...   \n",
                            "3     com.facebook.katana   the new features suck for those of us who don...   \n",
                            "4     com.facebook.katana   forced reload on uploading pic on replying co...   \n",
                            "..                    ...                                                ...   \n",
                            "886  com.rovio.angrybirds   loved it i loooooooooooooovvved it because it...   \n",
                            "887  com.rovio.angrybirds   all time legendary game the birthday party le...   \n",
                            "888  com.rovio.angrybirds   ads are way to heavy listen to the bad review...   \n",
                            "889  com.rovio.angrybirds   fun works perfectly well. ads aren't as annoy...   \n",
                            "890  com.rovio.angrybirds   they're everywhere i see angry birds everywhe...   \n",
                            "\n",
                            "     polarity  \n",
                            "0           0  \n",
                            "1           0  \n",
                            "2           0  \n",
                            "3           0  \n",
                            "4           0  \n",
                            "..        ...  \n",
                            "886         1  \n",
                            "887         1  \n",
                            "888         0  \n",
                            "889         1  \n",
                            "890         1  \n",
                            "\n",
                            "[891 rows x 3 columns]>"
                        ]
                    },
                    "execution_count": 42,
                    "metadata": {},
                    "output_type": "execute_result"
                }
            ],
            "source": [
                "datos.info"
            ]
        },
        {
            "cell_type": "code",
            "execution_count": 43,
            "metadata": {},
            "outputs": [
                {
                    "data": {
                        "text/plain": [
                            "polarity\n",
                            "0    584\n",
                            "1    307\n",
                            "Name: count, dtype: int64"
                        ]
                    },
                    "execution_count": 43,
                    "metadata": {},
                    "output_type": "execute_result"
                }
            ],
            "source": [
                "datos[\"polarity\"].value_counts()"
            ]
        },
        {
            "cell_type": "code",
            "execution_count": 44,
            "metadata": {},
            "outputs": [
                {
                    "data": {
                        "text/plain": [
                            "np.int64(0)"
                        ]
                    },
                    "execution_count": 44,
                    "metadata": {},
                    "output_type": "execute_result"
                }
            ],
            "source": [
                "datos.duplicated().sum()"
            ]
        },
        {
            "cell_type": "code",
            "execution_count": null,
            "metadata": {},
            "outputs": [],
            "source": []
        },
        {
            "cell_type": "code",
            "execution_count": 45,
            "metadata": {},
            "outputs": [
                {
                    "data": {
                        "text/html": [
                            "<div>\n",
                            "<style scoped>\n",
                            "    .dataframe tbody tr th:only-of-type {\n",
                            "        vertical-align: middle;\n",
                            "    }\n",
                            "\n",
                            "    .dataframe tbody tr th {\n",
                            "        vertical-align: top;\n",
                            "    }\n",
                            "\n",
                            "    .dataframe thead th {\n",
                            "        text-align: right;\n",
                            "    }\n",
                            "</style>\n",
                            "<table border=\"1\" class=\"dataframe\">\n",
                            "  <thead>\n",
                            "    <tr style=\"text-align: right;\">\n",
                            "      <th></th>\n",
                            "      <th>review</th>\n",
                            "      <th>polarity</th>\n",
                            "    </tr>\n",
                            "  </thead>\n",
                            "  <tbody>\n",
                            "    <tr>\n",
                            "      <th>0</th>\n",
                            "      <td>privacy at least put some option appear offli...</td>\n",
                            "      <td>0</td>\n",
                            "    </tr>\n",
                            "    <tr>\n",
                            "      <th>1</th>\n",
                            "      <td>messenger issues ever since the last update, ...</td>\n",
                            "      <td>0</td>\n",
                            "    </tr>\n",
                            "    <tr>\n",
                            "      <th>2</th>\n",
                            "      <td>profile any time my wife or anybody has more ...</td>\n",
                            "      <td>0</td>\n",
                            "    </tr>\n",
                            "    <tr>\n",
                            "      <th>3</th>\n",
                            "      <td>the new features suck for those of us who don...</td>\n",
                            "      <td>0</td>\n",
                            "    </tr>\n",
                            "    <tr>\n",
                            "      <th>4</th>\n",
                            "      <td>forced reload on uploading pic on replying co...</td>\n",
                            "      <td>0</td>\n",
                            "    </tr>\n",
                            "  </tbody>\n",
                            "</table>\n",
                            "</div>"
                        ],
                        "text/plain": [
                            "                                              review  polarity\n",
                            "0   privacy at least put some option appear offli...         0\n",
                            "1   messenger issues ever since the last update, ...         0\n",
                            "2   profile any time my wife or anybody has more ...         0\n",
                            "3   the new features suck for those of us who don...         0\n",
                            "4   forced reload on uploading pic on replying co...         0"
                        ]
                    },
                    "execution_count": 45,
                    "metadata": {},
                    "output_type": "execute_result"
                }
            ],
            "source": [
                "datos.drop([\"package_name\"], axis = 1, inplace = True)\n",
                "datos.head()"
            ]
        },
        {
            "cell_type": "code",
            "execution_count": 46,
            "metadata": {},
            "outputs": [
                {
                    "data": {
                        "text/html": [
                            "<div>\n",
                            "<style scoped>\n",
                            "    .dataframe tbody tr th:only-of-type {\n",
                            "        vertical-align: middle;\n",
                            "    }\n",
                            "\n",
                            "    .dataframe tbody tr th {\n",
                            "        vertical-align: top;\n",
                            "    }\n",
                            "\n",
                            "    .dataframe thead th {\n",
                            "        text-align: right;\n",
                            "    }\n",
                            "</style>\n",
                            "<table border=\"1\" class=\"dataframe\">\n",
                            "  <thead>\n",
                            "    <tr style=\"text-align: right;\">\n",
                            "      <th></th>\n",
                            "      <th>review</th>\n",
                            "      <th>polarity</th>\n",
                            "    </tr>\n",
                            "  </thead>\n",
                            "  <tbody>\n",
                            "    <tr>\n",
                            "      <th>0</th>\n",
                            "      <td>privacy at least put some option appear offlin...</td>\n",
                            "      <td>0</td>\n",
                            "    </tr>\n",
                            "    <tr>\n",
                            "      <th>1</th>\n",
                            "      <td>messenger issues ever since the last update, i...</td>\n",
                            "      <td>0</td>\n",
                            "    </tr>\n",
                            "    <tr>\n",
                            "      <th>2</th>\n",
                            "      <td>profile any time my wife or anybody has more t...</td>\n",
                            "      <td>0</td>\n",
                            "    </tr>\n",
                            "    <tr>\n",
                            "      <th>3</th>\n",
                            "      <td>the new features suck for those of us who don'...</td>\n",
                            "      <td>0</td>\n",
                            "    </tr>\n",
                            "    <tr>\n",
                            "      <th>4</th>\n",
                            "      <td>forced reload on uploading pic on replying com...</td>\n",
                            "      <td>0</td>\n",
                            "    </tr>\n",
                            "  </tbody>\n",
                            "</table>\n",
                            "</div>"
                        ],
                        "text/plain": [
                            "                                              review  polarity\n",
                            "0  privacy at least put some option appear offlin...         0\n",
                            "1  messenger issues ever since the last update, i...         0\n",
                            "2  profile any time my wife or anybody has more t...         0\n",
                            "3  the new features suck for those of us who don'...         0\n",
                            "4  forced reload on uploading pic on replying com...         0"
                        ]
                    },
                    "execution_count": 46,
                    "metadata": {},
                    "output_type": "execute_result"
                }
            ],
            "source": [
                "datos[\"review\"] = datos[\"review\"].str.strip().str.lower()\n",
                "datos.head()"
            ]
        },
        {
            "cell_type": "code",
            "execution_count": 47,
            "metadata": {},
            "outputs": [
                {
                    "data": {
                        "text/plain": [
                            "331    just did the latest update on viber and yet ag...\n",
                            "733    keeps crashing it only works well in extreme d...\n",
                            "382    the fail boat has arrived the 6.0 version is t...\n",
                            "704    superfast, just as i remember it ! opera mini ...\n",
                            "813    installed and immediately deleted this crap i ...\n",
                            "Name: review, dtype: object"
                        ]
                    },
                    "execution_count": 47,
                    "metadata": {},
                    "output_type": "execute_result"
                }
            ],
            "source": [
                "\n",
                "X = datos[\"review\"]\n",
                "y = datos[\"polarity\"]\n",
                "X_train, X_test, y_train, y_test = train_test_split(X, y, test_size = 0.2, random_state = 42)\n",
                "X_train.head()\n",
                "\n"
            ]
        },
        {
            "cell_type": "code",
            "execution_count": 48,
            "metadata": {},
            "outputs": [],
            "source": [
                "from sklearn.feature_extraction.text import CountVectorizer\n",
                "vec_model = CountVectorizer(stop_words = \"english\")\n",
                "X_train = vec_model.fit_transform(X_train).toarray()\n",
                "X_test = vec_model.transform(X_test).toarray()"
            ]
        },
        {
            "cell_type": "code",
            "execution_count": 49,
            "metadata": {},
            "outputs": [],
            "source": [
                "# Convertir las matrices a DataFrame para ver los resultados\n",
                "X_train_df = pd.DataFrame(X_train)\n",
                "X_test_df = pd.DataFrame(X_test)"
            ]
        },
        {
            "cell_type": "code",
            "execution_count": 51,
            "metadata": {},
            "outputs": [],
            "source": [
                "# GUARDAR LOS DATASETS\n",
                "X_train_df.to_excel(\"C:/Users/aguil/OneDrive/Desktop/proyectos javier/NAIVE-BAYES-ALGORITHM-1/data/processed/Excels/X_train_con_outliers.xlsx\", index=False)\n",
                "X_test_df.to_excel(\"C:/Users/aguil/OneDrive/Desktop/proyectos javier/NAIVE-BAYES-ALGORITHM-1/data/processed/Excels/X_test_con_outliers.xlsx\", index=False)\n",
                "y_train.to_excel(\"C:/Users/aguil/OneDrive/Desktop/proyectos javier/NAIVE-BAYES-ALGORITHM-1/data/processed/Excels/y_train.xlsx\", index=False)\n",
                "y_test.to_excel(\"C:/Users/aguil/OneDrive/Desktop/proyectos javier/NAIVE-BAYES-ALGORITHM-1/data/processed/Excels/y_test.xlsx\", index=False)"
            ]
        },
        {
            "cell_type": "code",
            "execution_count": 52,
            "metadata": {},
            "outputs": [
                {
                    "data": {
                        "text/plain": [
                            "<bound method NDFrame.head of      0     1     2     3     4     5     6     7     8     9     ...  3300  \\\n",
                            "0       0     0     0     0     0     0     0     0     0     0  ...     0   \n",
                            "1       0     0     0     0     0     0     0     0     0     0  ...     0   \n",
                            "2       0     0     0     0     0     0     0     0     0     0  ...     0   \n",
                            "3       0     0     0     0     0     0     0     0     0     0  ...     0   \n",
                            "4       0     0     0     0     0     0     0     0     0     0  ...     0   \n",
                            "..    ...   ...   ...   ...   ...   ...   ...   ...   ...   ...  ...   ...   \n",
                            "707     0     0     0     0     0     0     0     0     0     0  ...     0   \n",
                            "708     0     0     0     0     0     0     0     0     0     0  ...     0   \n",
                            "709     0     0     0     0     0     0     0     0     0     0  ...     0   \n",
                            "710     0     0     0     0     0     0     0     0     0     0  ...     0   \n",
                            "711     0     0     0     0     0     0     1     0     0     0  ...     0   \n",
                            "\n",
                            "     3301  3302  3303  3304  3305  3306  3307  3308  3309  \n",
                            "0       0     0     0     0     0     0     0     0     0  \n",
                            "1       0     0     0     0     0     0     0     0     0  \n",
                            "2       0     0     0     0     0     0     0     0     0  \n",
                            "3       0     0     0     0     0     0     0     0     0  \n",
                            "4       0     0     0     0     0     0     0     0     0  \n",
                            "..    ...   ...   ...   ...   ...   ...   ...   ...   ...  \n",
                            "707     0     0     0     0     0     0     0     0     0  \n",
                            "708     0     0     0     0     0     0     0     0     0  \n",
                            "709     0     0     0     0     0     0     0     0     0  \n",
                            "710     0     0     0     0     0     0     0     0     0  \n",
                            "711     0     0     0     0     0     0     0     0     0  \n",
                            "\n",
                            "[712 rows x 3310 columns]>"
                        ]
                    },
                    "execution_count": 52,
                    "metadata": {},
                    "output_type": "execute_result"
                }
            ],
            "source": [
                "X_train_df.head"
            ]
        },
        {
            "cell_type": "code",
            "execution_count": 58,
            "metadata": {},
            "outputs": [],
            "source": [
                "BASE_PATH = \"C:/Users/aguil/OneDrive/Desktop/proyectos javier/NAIVE-BAYES-ALGORITHM-1/data/processed/Excels\"\n",
                "TRAIN_PATHS = [\n",
                "    \"X_train_con_outliers.xlsx\",\n",
                "  \n",
                "]\n",
                "TRAIN_DATASETS = []\n",
                "for path in TRAIN_PATHS:\n",
                "    TRAIN_DATASETS.append(\n",
                "        # pd.read_excel(BASE_PATH + \"/\" + path)\n",
                "        pd.read_excel(f\"{BASE_PATH}/{path}\")\n",
                "        # pd.read_excel(os.path.join(BASE_PATH, path))\n",
                "    )\n",
                "\n",
                "TEST_PATHS = [\n",
                "    \"X_test_con_outliers.xlsx\",\n",
                "   \n",
                "]\n",
                "TEST_DATASETS = []\n",
                "for path in TEST_PATHS:\n",
                "    TEST_DATASETS.append(\n",
                "        pd.read_excel(f\"{BASE_PATH}/{path}\")\n",
                "    )\n",
                "\n",
                "y_train = pd.read_excel(f\"{BASE_PATH}/y_train.xlsx\")\n",
                "y_test = pd.read_excel(f\"{BASE_PATH}/y_test.xlsx\")"
            ]
        },
        {
            "cell_type": "code",
            "execution_count": 59,
            "metadata": {},
            "outputs": [
                {
                    "name": "stdout",
                    "output_type": "stream",
                    "text": [
                        "0\n"
                    ]
                },
                {
                    "name": "stderr",
                    "output_type": "stream",
                    "text": [
                        "C:\\Users\\aguil\\AppData\\Local\\Packages\\PythonSoftwareFoundation.Python.3.11_qbz5n2kfra8p0\\LocalCache\\local-packages\\Python311\\site-packages\\sklearn\\utils\\validation.py:1408: DataConversionWarning: A column-vector y was passed when a 1d array was expected. Please change the shape of y to (n_samples, ), for example using ravel().\n",
                        "  y = column_or_1d(y, warn=True)\n"
                    ]
                },
                {
                    "data": {
                        "text/plain": [
                            "[{'train': 0.9199438202247191, 'test': 0.770949720670391}]"
                        ]
                    },
                    "execution_count": 59,
                    "metadata": {},
                    "output_type": "execute_result"
                }
            ],
            "source": [
                "from sklearn.naive_bayes import BernoulliNB\n",
                "from sklearn.metrics import accuracy_score\n",
                "import numpy as np\n",
                "\n",
                "results = []\n",
                "for index, dataset in enumerate(TRAIN_DATASETS):\n",
                "    print(index)\n",
                "    model = BernoulliNB()\n",
                "    model.fit(dataset, y_train)\n",
                "    y_pred_train = model.predict(dataset)\n",
                "    y_pred_test = model.predict(TEST_DATASETS[index])\n",
                "\n",
                "    results.append(\n",
                "        {\n",
                "            \"train\": accuracy_score(y_train, y_pred_train),\n",
                "            \"test\": accuracy_score(y_test, y_pred_test)\n",
                "        }\n",
                "    )\n",
                "\n",
                "results"
            ]
        },
        {
            "cell_type": "code",
            "execution_count": 65,
            "metadata": {},
            "outputs": [
                {
                    "name": "stdout",
                    "output_type": "stream",
                    "text": [
                        "Mejores parámetros: {'alpha': 0.1, 'binarize': 0.0, 'fit_prior': True}\n",
                        "Mejor accuracy: 0.7977248104008667\n"
                    ]
                },
                {
                    "name": "stderr",
                    "output_type": "stream",
                    "text": [
                        "C:\\Users\\aguil\\AppData\\Local\\Packages\\PythonSoftwareFoundation.Python.3.11_qbz5n2kfra8p0\\LocalCache\\local-packages\\Python311\\site-packages\\sklearn\\utils\\validation.py:1408: DataConversionWarning: A column-vector y was passed when a 1d array was expected. Please change the shape of y to (n_samples, ), for example using ravel().\n",
                        "  y = column_or_1d(y, warn=True)\n"
                    ]
                }
            ],
            "source": [
                "\n",
                "from sklearn.model_selection import GridSearchCV\n",
                "import numpy as np\n",
                "\n",
                "best_dataset = 0  # Tercera posición (ajusta si necesario)\n",
                "\n",
                "hyperparams = {\n",
                "      'alpha': [0.1, 0.5, 1.0, 2.0, 10.0],  # Valores para suavizado\n",
                "    'binarize': [0.0, 0.1, 0.5, 1.0],  # Valores de binarización\n",
                "    'fit_prior': [True, False]  # Prior de ajuste\n",
                "}\n",
                "\n",
                "# Definir modelo base\n",
                "model = BernoulliNB()\n",
                "\n",
                "# Aplicar GridSearch\n",
                "grid = GridSearchCV(model, hyperparams, scoring=\"accuracy\", cv=5, n_jobs=-1)\n",
                "\n",
                "\n",
                "# Entrenar GridSearchCV con el mejor dataset\n",
                "grid.fit(TRAIN_DATASETS[best_dataset], y_train)\n",
                "\n",
                "# Mostrar los mejores parámetros\n",
                "print(\"Mejores parámetros:\", grid.best_params_)\n",
                "print(\"Mejor accuracy:\", grid.best_score_)"
            ]
        },
        {
            "cell_type": "code",
            "execution_count": 66,
            "metadata": {},
            "outputs": [
                {
                    "name": "stdout",
                    "output_type": "stream",
                    "text": [
                        "Train Accuracy: 0.9817\n",
                        "Test Accuracy: 0.8324\n"
                    ]
                }
            ],
            "source": [
                "# 1️⃣ Obtener el mejor modelo después de GridSearchCV\n",
                "final_model = grid.best_estimator_\n",
                "\n",
                "# 2️⃣ Elegir el dataset óptimo\n",
                "best_dataset = 0  \n",
                "X_train_best = TRAIN_DATASETS[best_dataset]\n",
                "X_test_best = TEST_DATASETS[best_dataset]\n",
                "\n",
                "# 3️⃣ Hacer predicciones\n",
                "y_pred_train = final_model.predict(X_train_best)\n",
                "y_pred_test = final_model.predict(X_test_best)\n",
                "\n",
                "# 4️⃣ Evaluar el rendimiento\n",
                "train_accuracy = accuracy_score(y_train, y_pred_train)\n",
                "test_accuracy = accuracy_score(y_test, y_pred_test)\n",
                "\n",
                "print(f\"Train Accuracy: {train_accuracy:.4f}\")\n",
                "print(f\"Test Accuracy: {test_accuracy:.4f}\")"
            ]
        }
    ],
    "metadata": {
        "kernelspec": {
            "display_name": "Python 3",
            "language": "python",
            "name": "python3"
        },
        "language_info": {
            "codemirror_mode": {
                "name": "ipython",
                "version": 3
            },
            "file_extension": ".py",
            "mimetype": "text/x-python",
            "name": "python",
            "nbconvert_exporter": "python",
            "pygments_lexer": "ipython3",
            "version": "3.11.9"
        },
        "orig_nbformat": 4
    },
    "nbformat": 4,
    "nbformat_minor": 2
}
